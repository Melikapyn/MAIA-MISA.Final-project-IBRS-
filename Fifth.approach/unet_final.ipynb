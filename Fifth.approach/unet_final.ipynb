{
  "nbformat": 4,
  "nbformat_minor": 0,
  "metadata": {
    "colab": {
      "provenance": []
    },
    "kernelspec": {
      "name": "python3",
      "display_name": "Python 3"
    },
    "accelerator": "GPU"
  },
  "cells": [
    {
      "cell_type": "code",
      "source": [
        "!pip install SimpleITK intensity_normalization"
      ],
      "metadata": {
        "colab": {
          "base_uri": "https://localhost:8080/"
        },
        "id": "JLxwDy7sS7So",
        "outputId": "f11e6e75-3f0b-4f90-d8e5-34117cfc559d"
      },
      "execution_count": 1,
      "outputs": [
        {
          "output_type": "stream",
          "name": "stdout",
          "text": [
            "Collecting SimpleITK\n",
            "  Downloading SimpleITK-2.3.1-cp310-cp310-manylinux_2_17_x86_64.manylinux2014_x86_64.whl (52.7 MB)\n",
            "\u001b[2K     \u001b[90m━━━━━━━━━━━━━━━━━━━━━━━━━━━━━━━━━━━━━━━━\u001b[0m \u001b[32m52.7/52.7 MB\u001b[0m \u001b[31m16.1 MB/s\u001b[0m eta \u001b[36m0:00:00\u001b[0m\n",
            "\u001b[?25hCollecting intensity_normalization\n",
            "  Downloading intensity_normalization-2.2.4-py3-none-any.whl (50 kB)\n",
            "\u001b[2K     \u001b[90m━━━━━━━━━━━━━━━━━━━━━━━━━━━━━━━━━━━━━━━━\u001b[0m \u001b[32m50.8/50.8 kB\u001b[0m \u001b[31m4.5 MB/s\u001b[0m eta \u001b[36m0:00:00\u001b[0m\n",
            "\u001b[?25hCollecting nibabel<4,>=3 (from intensity_normalization)\n",
            "  Downloading nibabel-3.2.2-py3-none-any.whl (3.3 MB)\n",
            "\u001b[2K     \u001b[90m━━━━━━━━━━━━━━━━━━━━━━━━━━━━━━━━━━━━━━━━\u001b[0m \u001b[32m3.3/3.3 MB\u001b[0m \u001b[31m30.7 MB/s\u001b[0m eta \u001b[36m0:00:00\u001b[0m\n",
            "\u001b[?25hRequirement already satisfied: numpy<2,>=1.22 in /usr/local/lib/python3.10/dist-packages (from intensity_normalization) (1.23.5)\n",
            "Requirement already satisfied: pillow>=9.0.0 in /usr/local/lib/python3.10/dist-packages (from intensity_normalization) (9.4.0)\n",
            "Collecting pydicom<3,>=2.2.2 (from intensity_normalization)\n",
            "  Downloading pydicom-2.4.4-py3-none-any.whl (1.8 MB)\n",
            "\u001b[2K     \u001b[90m━━━━━━━━━━━━━━━━━━━━━━━━━━━━━━━━━━━━━━━━\u001b[0m \u001b[32m1.8/1.8 MB\u001b[0m \u001b[31m56.4 MB/s\u001b[0m eta \u001b[36m0:00:00\u001b[0m\n",
            "\u001b[?25hCollecting pymedio<1,>=0.2.8 (from intensity_normalization)\n",
            "  Downloading pymedio-0.2.14-py3-none-any.whl (26 kB)\n",
            "Collecting scikit-fuzzy<1,>=0.4.2 (from intensity_normalization)\n",
            "  Downloading scikit-fuzzy-0.4.2.tar.gz (993 kB)\n",
            "\u001b[2K     \u001b[90m━━━━━━━━━━━━━━━━━━━━━━━━━━━━━━━━━━━━━━━━\u001b[0m \u001b[32m994.0/994.0 kB\u001b[0m \u001b[31m75.0 MB/s\u001b[0m eta \u001b[36m0:00:00\u001b[0m\n",
            "\u001b[?25h  Preparing metadata (setup.py) ... \u001b[?25l\u001b[?25hdone\n",
            "Requirement already satisfied: scikit-image<1,>=0.17 in /usr/local/lib/python3.10/dist-packages (from intensity_normalization) (0.19.3)\n",
            "Requirement already satisfied: scikit-learn<2,>=0.24 in /usr/local/lib/python3.10/dist-packages (from intensity_normalization) (1.2.2)\n",
            "Requirement already satisfied: scipy<2,>=1.5 in /usr/local/lib/python3.10/dist-packages (from intensity_normalization) (1.11.4)\n",
            "Requirement already satisfied: statsmodels<1,>=0.12 in /usr/local/lib/python3.10/dist-packages (from intensity_normalization) (0.14.1)\n",
            "Requirement already satisfied: packaging>=14.3 in /usr/local/lib/python3.10/dist-packages (from nibabel<4,>=3->intensity_normalization) (23.2)\n",
            "Requirement already satisfied: setuptools in /usr/local/lib/python3.10/dist-packages (from nibabel<4,>=3->intensity_normalization) (67.7.2)\n",
            "Requirement already satisfied: networkx>=1.9.0 in /usr/local/lib/python3.10/dist-packages (from scikit-fuzzy<1,>=0.4.2->intensity_normalization) (3.2.1)\n",
            "Requirement already satisfied: imageio>=2.4.1 in /usr/local/lib/python3.10/dist-packages (from scikit-image<1,>=0.17->intensity_normalization) (2.31.6)\n",
            "Requirement already satisfied: tifffile>=2019.7.26 in /usr/local/lib/python3.10/dist-packages (from scikit-image<1,>=0.17->intensity_normalization) (2023.12.9)\n",
            "Requirement already satisfied: PyWavelets>=1.1.1 in /usr/local/lib/python3.10/dist-packages (from scikit-image<1,>=0.17->intensity_normalization) (1.5.0)\n",
            "Requirement already satisfied: joblib>=1.1.1 in /usr/local/lib/python3.10/dist-packages (from scikit-learn<2,>=0.24->intensity_normalization) (1.3.2)\n",
            "Requirement already satisfied: threadpoolctl>=2.0.0 in /usr/local/lib/python3.10/dist-packages (from scikit-learn<2,>=0.24->intensity_normalization) (3.2.0)\n",
            "Requirement already satisfied: pandas!=2.1.0,>=1.0 in /usr/local/lib/python3.10/dist-packages (from statsmodels<1,>=0.12->intensity_normalization) (1.5.3)\n",
            "Requirement already satisfied: patsy>=0.5.4 in /usr/local/lib/python3.10/dist-packages (from statsmodels<1,>=0.12->intensity_normalization) (0.5.6)\n",
            "Requirement already satisfied: python-dateutil>=2.8.1 in /usr/local/lib/python3.10/dist-packages (from pandas!=2.1.0,>=1.0->statsmodels<1,>=0.12->intensity_normalization) (2.8.2)\n",
            "Requirement already satisfied: pytz>=2020.1 in /usr/local/lib/python3.10/dist-packages (from pandas!=2.1.0,>=1.0->statsmodels<1,>=0.12->intensity_normalization) (2023.3.post1)\n",
            "Requirement already satisfied: six in /usr/local/lib/python3.10/dist-packages (from patsy>=0.5.4->statsmodels<1,>=0.12->intensity_normalization) (1.16.0)\n",
            "Building wheels for collected packages: scikit-fuzzy\n",
            "  Building wheel for scikit-fuzzy (setup.py) ... \u001b[?25l\u001b[?25hdone\n",
            "  Created wheel for scikit-fuzzy: filename=scikit_fuzzy-0.4.2-py3-none-any.whl size=894077 sha256=dcdbaa339d31c0352ea9aaee1f542ecab8d609645edf4140f7a442c3c210db48\n",
            "  Stored in directory: /root/.cache/pip/wheels/4f/86/1b/dfd97134a2c8313e519bcebd95d3fedc7be7944db022094bc8\n",
            "Successfully built scikit-fuzzy\n",
            "Installing collected packages: SimpleITK, pymedio, pydicom, nibabel, scikit-fuzzy, intensity_normalization\n",
            "  Attempting uninstall: nibabel\n",
            "    Found existing installation: nibabel 4.0.2\n",
            "    Uninstalling nibabel-4.0.2:\n",
            "      Successfully uninstalled nibabel-4.0.2\n",
            "Successfully installed SimpleITK-2.3.1 intensity_normalization-2.2.4 nibabel-3.2.2 pydicom-2.4.4 pymedio-0.2.14 scikit-fuzzy-0.4.2\n"
          ]
        }
      ]
    },
    {
      "cell_type": "markdown",
      "metadata": {
        "id": "HMIG5gOwa-Nb"
      },
      "source": [
        "**Import libraries**"
      ]
    },
    {
      "cell_type": "code",
      "metadata": {
        "id": "spA2vbr3a0j7"
      },
      "source": [
        "import numpy as np\n",
        "import nibabel as nib\n",
        "import matplotlib.pyplot as plt\n",
        "\n",
        "import tensorflow as tf\n",
        "\n",
        "from tensorflow import keras\n",
        "from tensorflow.keras import layers"
      ],
      "execution_count": 2,
      "outputs": []
    },
    {
      "cell_type": "markdown",
      "metadata": {
        "id": "MYqbV-aZEzEx"
      },
      "source": [
        "**Mount drive**"
      ]
    },
    {
      "cell_type": "code",
      "metadata": {
        "id": "tFJ_L_2i55hx",
        "colab": {
          "base_uri": "https://localhost:8080/"
        },
        "outputId": "bb6db856-22f0-4197-9d65-f8418c94230f"
      },
      "source": [
        "from google.colab import drive\n",
        "drive.mount(\"/content/drive/\")"
      ],
      "execution_count": 3,
      "outputs": [
        {
          "output_type": "stream",
          "name": "stdout",
          "text": [
            "Mounted at /content/drive/\n"
          ]
        }
      ]
    },
    {
      "cell_type": "markdown",
      "metadata": {
        "id": "IEFUu8FjYvaz"
      },
      "source": [
        "**Define parameters**"
      ]
    },
    {
      "cell_type": "code",
      "metadata": {
        "id": "eerKWEtxUg_x"
      },
      "source": [
        "# dataset parameters\n",
        "FNAME_PATTERN = '/content/drive/MyDrive/IBSR/{0}/IBSR_{1:02d}/IBSR_{1:02d}{2}.nii.gz'\n",
        "IMAGE_SIZE = (128, 256, 256)\n",
        "\n",
        "\n",
        "# network parameters\n",
        "N_CLASSES = 4\n",
        "N_INPUT_CHANNELS = 1\n",
        "SCALING_FACTOR = 1\n",
        "PATCH_SIZE = (64, 64)\n",
        "PATCH_STRIDE = (32, 32)\n",
        "\n",
        "# training, validation, test parameters\n",
        "TRAINING_VOLUMES = [1, 3, 4, 5, 6, 7, 8, 9, 16, 18]\n",
        "VALIDATION_VOLUMES = [11, 12, 13, 14, 17]\n",
        "TEST_VOLUMES = [2, 10, 15]\n",
        "\n",
        "# data preparation parameters\n",
        "CONTENT_THRESHOLD = 0.1\n",
        "\n",
        "# training parameters\n",
        "N_EPOCHS = 50\n",
        "BATCH_SIZE = 64\n",
        "PATIENCE = 20\n",
        "MODEL_FOLDER = 'checkpoint'\n",
        "OPTIMISER = 'Adam'\n",
        "LOSS = 'categorical_crossentropy'"
      ],
      "execution_count": 4,
      "outputs": []
    },
    {
      "cell_type": "markdown",
      "metadata": {
        "id": "kakQO5X9E0oR"
      },
      "source": [
        "**Define SegNet architecture**"
      ]
    },
    {
      "cell_type": "code",
      "metadata": {
        "id": "flPaOqv0bZ3-"
      },
      "source": [
        "def get_unet(img_size=PATCH_SIZE, n_classes=N_CLASSES, n_input_channels=N_INPUT_CHANNELS, scaling_factor=SCALING_FACTOR):\n",
        "    inputs = keras.Input(shape=img_size + (n_input_channels, ))\n",
        "\n",
        "    # Encoding path\n",
        "    conv1 = layers.Conv2D(32*scaling_factor, (3, 3), padding=\"same\", activation='relu')(inputs)\n",
        "    max1 = layers.MaxPooling2D((2, 2))(conv1)\n",
        "\n",
        "    conv2 = layers.Conv2D(64*scaling_factor, (3, 3), padding=\"same\", activation='relu')(max1)\n",
        "    max2 = layers.MaxPooling2D((2, 2))(conv2)\n",
        "\n",
        "    conv3 = layers.Conv2D(128*scaling_factor, (3, 3), padding=\"same\", activation='relu')(max2)\n",
        "    max3 = layers.MaxPooling2D((2, 2))(conv3)\n",
        "\n",
        "    lat = layers.Conv2D(256*scaling_factor, (3, 3), padding=\"same\", activation='relu')(max3)\n",
        "\n",
        "    up1 = layers.UpSampling2D((2, 2))(lat)\n",
        "    cat1 = layers.Concatenate()([up1, conv3])\n",
        "    conv4 = layers.Conv2D(128*scaling_factor, (3, 3), padding=\"same\", activation='relu')(cat1)\n",
        "\n",
        "    up2 = layers.UpSampling2D((2, 2))(conv4)\n",
        "    cat2 = layers.Concatenate()([up2, conv2])\n",
        "    conv5 = layers.Conv2D(64*scaling_factor, (3, 3), padding=\"same\", activation='relu')(cat2)\n",
        "\n",
        "    up3 = layers.UpSampling2D((2, 2))(conv5)\n",
        "    cat3 = layers.Concatenate()([up3, conv1])\n",
        "    conv6 = layers.Conv2D(32*scaling_factor, (3, 3), padding=\"same\", activation='relu')(cat3)\n",
        "\n",
        "    outputs = layers.Conv2D(n_classes, (1, 1), activation=\"softmax\")(conv6)\n",
        "\n",
        "    model = keras.Model(inputs, outputs)\n",
        "\n",
        "    return model"
      ],
      "execution_count": 5,
      "outputs": []
    },
    {
      "cell_type": "markdown",
      "metadata": {
        "id": "4Z1E1IglE-0w"
      },
      "source": [
        "**Load data**"
      ]
    },
    {
      "cell_type": "code",
      "metadata": {
        "id": "z-iEv0DKfkhD"
      },
      "source": [
        "def load_data(volume_list, folder_name, image_size=IMAGE_SIZE, fname_pattern=FNAME_PATTERN):\n",
        "    n_volumes = len(volume_list)\n",
        "    T1_volumes = np.zeros((n_volumes, *image_size, 1))\n",
        "    labels = np.zeros((n_volumes, *image_size, 1))\n",
        "\n",
        "    for iFile, iID in enumerate(volume_list):\n",
        "        # Format the file name pattern with the folder name and the volume ID\n",
        "        preprocessed_fname = fname_pattern.format(folder_name, iID, '_preprocessed_histmatched')\n",
        "        img_data = nib.load(preprocessed_fname).get_fdata()\n",
        "        print(f\"Shape of T1 volume {iID} before transpose: {img_data.shape}\")\n",
        "\n",
        "        # Correct transpose operation for T1 volumes\n",
        "        if img_data.shape != image_size:\n",
        "            img_data = np.transpose(img_data, (1, 2, 0))\n",
        "        print(f\"Shape of T1 volume {iID} after transpose: {img_data.shape}\")\n",
        "\n",
        "        # Check and assign for T1 volumes\n",
        "        if img_data.shape == image_size:\n",
        "            T1_volumes[iFile, ..., 0] = img_data\n",
        "        else:\n",
        "            print(f\"Error: Shape of T1 volume {iID} does not match expected shape {image_size}\")\n",
        "\n",
        "        # Load segmentation label and remove the singleton dimension\n",
        "        # Load segmentation data\n",
        "        seg_fname = fname_pattern.format(folder_name, iID, '_seg')\n",
        "        seg_data = nib.load(seg_fname).get_fdata()[..., 0]\n",
        "        print(f\"Shape of segmentation label {iID} before transpose: {seg_data.shape}\")\n",
        "\n",
        "        # Correct transpose for segmentation labels\n",
        "        if seg_data.shape != image_size:\n",
        "            seg_data = np.transpose(seg_data, (1, 2, 0))\n",
        "        print(f\"Shape of segmentation label {iID} after transpose: {seg_data.shape}\")\n",
        "\n",
        "        # Check and assign for segmentation labels\n",
        "        if seg_data.shape == image_size:\n",
        "            labels[iFile, ..., 0] = seg_data\n",
        "        else:\n",
        "            print(f\"Error: Shape of segmentation label {iID} does not match expected shape {image_size}\")\n",
        "\n",
        "    return (T1_volumes, labels)"
      ],
      "execution_count": 8,
      "outputs": []
    },
    {
      "cell_type": "code",
      "metadata": {
        "id": "SCohHTitd5gU",
        "colab": {
          "base_uri": "https://localhost:8080/"
        },
        "outputId": "eb4cd83d-d42e-480a-d8aa-ea3e07829b38"
      },
      "source": [
        "(training_volumes_T1, training_labels) = load_data(TRAINING_VOLUMES, \"Training_Set\")\n",
        "(validation_volumes_T1, validation_labels) = load_data(VALIDATION_VOLUMES, \"Validation_Set\")"
      ],
      "execution_count": 9,
      "outputs": [
        {
          "output_type": "stream",
          "name": "stdout",
          "text": [
            "Shape of T1 volume 1 before transpose: (256, 128, 256)\n",
            "Shape of T1 volume 1 after transpose: (128, 256, 256)\n",
            "Shape of segmentation label 1 before transpose: (256, 128, 256)\n",
            "Shape of segmentation label 1 after transpose: (128, 256, 256)\n",
            "Shape of T1 volume 3 before transpose: (256, 128, 256)\n",
            "Shape of T1 volume 3 after transpose: (128, 256, 256)\n",
            "Shape of segmentation label 3 before transpose: (256, 128, 256)\n",
            "Shape of segmentation label 3 after transpose: (128, 256, 256)\n",
            "Shape of T1 volume 4 before transpose: (256, 128, 256)\n",
            "Shape of T1 volume 4 after transpose: (128, 256, 256)\n",
            "Shape of segmentation label 4 before transpose: (256, 128, 256)\n",
            "Shape of segmentation label 4 after transpose: (128, 256, 256)\n",
            "Shape of T1 volume 5 before transpose: (256, 128, 256)\n",
            "Shape of T1 volume 5 after transpose: (128, 256, 256)\n",
            "Shape of segmentation label 5 before transpose: (256, 128, 256)\n",
            "Shape of segmentation label 5 after transpose: (128, 256, 256)\n",
            "Shape of T1 volume 6 before transpose: (256, 128, 256)\n",
            "Shape of T1 volume 6 after transpose: (128, 256, 256)\n",
            "Shape of segmentation label 6 before transpose: (256, 128, 256)\n",
            "Shape of segmentation label 6 after transpose: (128, 256, 256)\n",
            "Shape of T1 volume 7 before transpose: (256, 128, 256)\n",
            "Shape of T1 volume 7 after transpose: (128, 256, 256)\n",
            "Shape of segmentation label 7 before transpose: (256, 128, 256)\n",
            "Shape of segmentation label 7 after transpose: (128, 256, 256)\n",
            "Shape of T1 volume 8 before transpose: (256, 128, 256)\n",
            "Shape of T1 volume 8 after transpose: (128, 256, 256)\n",
            "Shape of segmentation label 8 before transpose: (256, 128, 256)\n",
            "Shape of segmentation label 8 after transpose: (128, 256, 256)\n",
            "Shape of T1 volume 9 before transpose: (256, 128, 256)\n",
            "Shape of T1 volume 9 after transpose: (128, 256, 256)\n",
            "Shape of segmentation label 9 before transpose: (256, 128, 256)\n",
            "Shape of segmentation label 9 after transpose: (128, 256, 256)\n",
            "Shape of T1 volume 16 before transpose: (256, 128, 256)\n",
            "Shape of T1 volume 16 after transpose: (128, 256, 256)\n",
            "Shape of segmentation label 16 before transpose: (256, 128, 256)\n",
            "Shape of segmentation label 16 after transpose: (128, 256, 256)\n",
            "Shape of T1 volume 18 before transpose: (256, 128, 256)\n",
            "Shape of T1 volume 18 after transpose: (128, 256, 256)\n",
            "Shape of segmentation label 18 before transpose: (256, 128, 256)\n",
            "Shape of segmentation label 18 after transpose: (128, 256, 256)\n",
            "Shape of T1 volume 11 before transpose: (256, 128, 256)\n",
            "Shape of T1 volume 11 after transpose: (128, 256, 256)\n",
            "Shape of segmentation label 11 before transpose: (256, 128, 256)\n",
            "Shape of segmentation label 11 after transpose: (128, 256, 256)\n",
            "Shape of T1 volume 12 before transpose: (256, 128, 256)\n",
            "Shape of T1 volume 12 after transpose: (128, 256, 256)\n",
            "Shape of segmentation label 12 before transpose: (256, 128, 256)\n",
            "Shape of segmentation label 12 after transpose: (128, 256, 256)\n",
            "Shape of T1 volume 13 before transpose: (256, 128, 256)\n",
            "Shape of T1 volume 13 after transpose: (128, 256, 256)\n",
            "Shape of segmentation label 13 before transpose: (256, 128, 256)\n",
            "Shape of segmentation label 13 after transpose: (128, 256, 256)\n",
            "Shape of T1 volume 14 before transpose: (256, 128, 256)\n",
            "Shape of T1 volume 14 after transpose: (128, 256, 256)\n",
            "Shape of segmentation label 14 before transpose: (256, 128, 256)\n",
            "Shape of segmentation label 14 after transpose: (128, 256, 256)\n",
            "Shape of T1 volume 17 before transpose: (256, 128, 256)\n",
            "Shape of T1 volume 17 after transpose: (128, 256, 256)\n",
            "Shape of segmentation label 17 before transpose: (256, 128, 256)\n",
            "Shape of segmentation label 17 after transpose: (128, 256, 256)\n"
          ]
        }
      ]
    },
    {
      "cell_type": "markdown",
      "metadata": {
        "id": "LpKWGJ-Fh1B_"
      },
      "source": [
        "**Pre-process data**"
      ]
    },
    {
      "cell_type": "code",
      "source": [
        "plt.hist(training_volumes_T1[training_labels>0].flatten(), 100, label='training', alpha=0.5, density=True)\n",
        "plt.hist(validation_volumes_T1[validation_labels>0].flatten(), 100, label='validation', alpha=0.5, density=True)\n",
        "# plt.hist(testing_volumes_T1[testing_volumes_T1>0.01].flatten(), 100, label='test', alpha=0.5, density=True)\n",
        "plt.legend(loc='upper right')\n",
        "plt.show()"
      ],
      "metadata": {
        "id": "_fKkb5ygPgvJ",
        "colab": {
          "base_uri": "https://localhost:8080/",
          "height": 430
        },
        "outputId": "4281cdaa-b36f-433d-9f79-5ef3baf457ed"
      },
      "execution_count": 15,
      "outputs": [
        {
          "output_type": "display_data",
          "data": {
            "text/plain": [
              "<Figure size 640x480 with 1 Axes>"
            ],
            "image/png": "[encoded data removed]"
          },
          "metadata": {}
        }
      ]
    },
    {
      "cell_type": "markdown",
      "metadata": {
        "id": "BFDtzyW6FH7x"
      },
      "source": [
        "**Extract *useful* patches**\n",
        "\n",
        "This step is fundamental, we want to provide the network with useful information"
      ]
    },
    {
      "cell_type": "code",
      "metadata": {
        "id": "v4qyfiRaf7n2"
      },
      "source": [
        "def extract_patches(x, patch_size, patch_stride) :\n",
        "  return tf.image.extract_patches(\n",
        "    x,\n",
        "    sizes=[1, *patch_size, 1],\n",
        "    strides=[1, *patch_stride, 1],\n",
        "    rates=[1, 1, 1, 1],\n",
        "    padding='SAME', name=None)"
      ],
      "execution_count": 9,
      "outputs": []
    },
    {
      "cell_type": "code",
      "metadata": {
        "id": "nsKNTm-Lf-sb"
      },
      "source": [
        "def extract_useful_patches(\n",
        "    volumes, labels,\n",
        "    image_size=IMAGE_SIZE,\n",
        "    patch_size=PATCH_SIZE,\n",
        "    stride=PATCH_STRIDE,\n",
        "    threshold=CONTENT_THRESHOLD,\n",
        "    num_classes=N_CLASSES) :\n",
        "  volumes = volumes.reshape([-1, image_size[1], image_size[2], 1])\n",
        "  labels = labels.reshape([-1, image_size[1], image_size[2], 1])\n",
        "\n",
        "  vol_patches = extract_patches(volumes, patch_size, stride).numpy()\n",
        "  seg_patches = extract_patches(labels, patch_size, stride).numpy()\n",
        "\n",
        "  vol_patches = vol_patches.reshape([-1, *patch_size, 1])\n",
        "  seg_patches = seg_patches.reshape([-1, *patch_size, ])\n",
        "\n",
        "  foreground_mask = seg_patches != 0\n",
        "\n",
        "  useful_patches = foreground_mask.sum(axis=(1, 2)) > threshold * np.prod(patch_size)\n",
        "\n",
        "  vol_patches = vol_patches[useful_patches]\n",
        "  seg_patches = seg_patches[useful_patches]\n",
        "\n",
        "  seg_patches = tf.keras.utils.to_categorical(\n",
        "    seg_patches, num_classes=N_CLASSES, dtype='float32')\n",
        "\n",
        "  return (vol_patches, seg_patches)"
      ],
      "execution_count": 10,
      "outputs": []
    },
    {
      "cell_type": "code",
      "metadata": {
        "id": "tTcoEi426bfg"
      },
      "source": [
        "# extract patches from training set\n",
        "(training_patches_T1, training_patches_seg) = extract_useful_patches(training_volumes_T1, training_labels)\n",
        "\n",
        "# extract patches from validation set\n",
        "(validation_patches_T1, validation_patches_seg) = extract_useful_patches(validation_volumes_T1, validation_labels)"
      ],
      "execution_count": 11,
      "outputs": []
    },
    {
      "cell_type": "code",
      "metadata": {
        "id": "j7H9hIPwEwJZ",
        "colab": {
          "base_uri": "https://localhost:8080/"
        },
        "outputId": "2075e1a3-2897-4279-e467-73efb3df1598"
      },
      "source": [
        "my_callbacks = [\n",
        "    tf.keras.callbacks.EarlyStopping(patience=PATIENCE),\n",
        "    tf.keras.callbacks.ModelCheckpoint(filepath=MODEL_FOLDER + \"/best_model_all_2.h5\", save_best_only=True)\n",
        "]\n",
        "\n",
        "segnet = get_unet()\n",
        "segnet.compile(optimizer=OPTIMISER, loss=LOSS)\n",
        "\n",
        "h = segnet.fit(\n",
        "    x=training_patches_T1,\n",
        "    y=training_patches_seg,\n",
        "    validation_data=(validation_patches_T1, validation_patches_seg),  # Include validation data\n",
        "    batch_size=BATCH_SIZE,\n",
        "    epochs=N_EPOCHS,\n",
        "    callbacks=my_callbacks,\n",
        "    verbose=1)"
      ],
      "execution_count": 12,
      "outputs": [
        {
          "output_type": "stream",
          "name": "stdout",
          "text": [
            "Epoch 1/20\n",
            "139/139 [==============================] - 20s 77ms/step - loss: 0.4879 - val_loss: 0.3467\n",
            "Epoch 2/20\n",
            "  1/139 [..............................] - ETA: 5s - loss: 0.3126"
          ]
        },
        {
          "output_type": "stream",
          "name": "stderr",
          "text": [
            "/usr/local/lib/python3.10/dist-packages/keras/src/engine/training.py:3103: UserWarning: You are saving your model as an HDF5 file via `model.save()`. This file format is considered legacy. We recommend using instead the native Keras format, e.g. `model.save('my_model.keras')`.\n",
            "  saving_api.save_model(\n"
          ]
        },
        {
          "output_type": "stream",
          "name": "stdout",
          "text": [
            "139/139 [==============================] - 7s 53ms/step - loss: 0.2757 - val_loss: 0.2381\n",
            "Epoch 3/20\n",
            "139/139 [==============================] - 7s 52ms/step - loss: 0.2128 - val_loss: 0.2296\n",
            "Epoch 4/20\n",
            "139/139 [==============================] - 7s 51ms/step - loss: 0.1749 - val_loss: 0.1902\n",
            "Epoch 5/20\n",
            "139/139 [==============================] - 8s 54ms/step - loss: 0.1503 - val_loss: 0.1560\n",
            "Epoch 6/20\n",
            "139/139 [==============================] - 7s 54ms/step - loss: 0.1387 - val_loss: 0.1475\n",
            "Epoch 7/20\n",
            "139/139 [==============================] - 7s 53ms/step - loss: 0.1280 - val_loss: 0.1485\n",
            "Epoch 8/20\n",
            "139/139 [==============================] - 7s 53ms/step - loss: 0.1196 - val_loss: 0.1455\n",
            "Epoch 9/20\n",
            "139/139 [==============================] - 7s 54ms/step - loss: 0.1119 - val_loss: 0.1474\n",
            "Epoch 10/20\n",
            "139/139 [==============================] - 7s 52ms/step - loss: 0.1061 - val_loss: 0.1489\n",
            "Epoch 11/20\n",
            "139/139 [==============================] - 7s 54ms/step - loss: 0.1021 - val_loss: 0.1433\n",
            "Epoch 12/20\n",
            "139/139 [==============================] - 7s 51ms/step - loss: 0.0955 - val_loss: 0.1494\n",
            "Epoch 13/20\n",
            "139/139 [==============================] - 7s 52ms/step - loss: 0.0926 - val_loss: 0.1509\n",
            "Epoch 14/20\n",
            "139/139 [==============================] - 7s 51ms/step - loss: 0.0887 - val_loss: 0.1417\n",
            "Epoch 15/20\n",
            "139/139 [==============================] - 7s 54ms/step - loss: 0.0845 - val_loss: 0.1455\n",
            "Epoch 16/20\n",
            "139/139 [==============================] - 7s 51ms/step - loss: 0.0817 - val_loss: 0.1620\n",
            "Epoch 17/20\n",
            "139/139 [==============================] - 7s 53ms/step - loss: 0.0783 - val_loss: 0.1594\n",
            "Epoch 18/20\n",
            "139/139 [==============================] - 7s 52ms/step - loss: 0.0761 - val_loss: 0.1613\n",
            "Epoch 19/20\n",
            "139/139 [==============================] - 7s 53ms/step - loss: 0.0755 - val_loss: 0.1538\n"
          ]
        }
      ]
    },
    {
      "cell_type": "code",
      "source": [
        "from google.colab import files\n",
        "files.download(MODEL_FOLDER + \"/best_model_all_2.h5\")"
      ],
      "metadata": {
        "colab": {
          "base_uri": "https://localhost:8080/",
          "height": 17
        },
        "id": "AJHMLw30Ta2-",
        "outputId": "69f09a4a-b631-45ff-c497-52b1803ea47b"
      },
      "execution_count": 13,
      "outputs": [
        {
          "output_type": "display_data",
          "data": {
            "text/plain": [
              "<IPython.core.display.Javascript object>"
            ],
            "application/javascript": [
              "\n",
              "    async function download(id, filename, size) {\n",
              "      if (!google.colab.kernel.accessAllowed) {\n",
              "        return;\n",
              "      }\n",
              "      const div = document.createElement('div');\n",
              "      const label = document.createElement('label');\n",
              "      label.textContent = `Downloading \"${filename}\": `;\n",
              "      div.appendChild(label);\n",
              "      const progress = document.createElement('progress');\n",
              "      progress.max = size;\n",
              "      div.appendChild(progress);\n",
              "      document.body.appendChild(div);\n",
              "\n",
              "      const buffers = [];\n",
              "      let downloaded = 0;\n",
              "\n",
              "      const channel = await google.colab.kernel.comms.open(id);\n",
              "      // Send a message to notify the kernel that we're ready.\n",
              "      channel.send({})\n",
              "\n",
              "      for await (const message of channel.messages) {\n",
              "        // Send a message to notify the kernel that we're ready.\n",
              "        channel.send({})\n",
              "        if (message.buffers) {\n",
              "          for (const buffer of message.buffers) {\n",
              "            buffers.push(buffer);\n",
              "            downloaded += buffer.byteLength;\n",
              "            progress.value = downloaded;\n",
              "          }\n",
              "        }\n",
              "      }\n",
              "      const blob = new Blob(buffers, {type: 'application/binary'});\n",
              "      const a = document.createElement('a');\n",
              "      a.href = window.URL.createObjectURL(blob);\n",
              "      a.download = filename;\n",
              "      div.appendChild(a);\n",
              "      a.click();\n",
              "      div.remove();\n",
              "    }\n",
              "  "
            ]
          },
          "metadata": {}
        },
        {
          "output_type": "display_data",
          "data": {
            "text/plain": [
              "<IPython.core.display.Javascript object>"
            ],
            "application/javascript": [
              "download(\"download_a9fc0c07-4934-4e14-b811-1d1ff0190517\", \"best_model_all_32.h5\", 11709936)"
            ]
          },
          "metadata": {}
        }
      ]
    },
    {
      "cell_type": "code",
      "source": [
        "# Number of epochs actually trained\n",
        "actual_epochs = len(h.history['loss'])\n",
        "\n",
        "plt.figure()\n",
        "plt.plot(range(actual_epochs), h.history['loss'], label='loss')\n",
        "plt.plot(range(actual_epochs), h.history['val_loss'], label='val_loss')\n",
        "plt.legend()\n",
        "plt.show()"
      ],
      "metadata": {
        "colab": {
          "base_uri": "https://localhost:8080/",
          "height": 430
        },
        "id": "nhkKnuaKPSTc",
        "outputId": "b694811a-1094-420b-fdbd-5cbc09550d23"
      },
      "execution_count": 14,
      "outputs": [
        {
          "output_type": "display_data",
          "data": {
            "text/plain": [
              "<Figure size 640x480 with 1 Axes>"
            ],
            "image/png": "[encoded data removed]"
          },
          "metadata": {}
        }
      ]
    },
    {
      "cell_type": "markdown",
      "metadata": {
        "id": "XGcfrZCMjz4M"
      },
      "source": [
        "**Load best model**: the one int the checkpoint folder"
      ]
    },
    {
      "cell_type": "code",
      "metadata": {
        "id": "5fNsYJL7KnON"
      },
      "source": [
        "# unet = get_unet(\n",
        "#     img_size=(IMAGE_SIZE[1], IMAGE_SIZE[2]),\n",
        "#     n_classes=N_CLASSES,\n",
        "#     n_input_channels=N_INPUT_CHANNELS)\n",
        "\n",
        "# unet.compile(optimizer=OPTIMISER, loss=LOSS)\n",
        "# unet.load_weights(MODEL_FOLDER  + \"/best_model_all_2.h5\")"
      ],
      "execution_count": 14,
      "outputs": []
    },
    {
      "cell_type": "markdown",
      "metadata": {
        "id": "CwPzN0jrSm8r"
      },
      "source": [
        "**Prepare test data**"
      ]
    },
    {
      "cell_type": "code",
      "source": [
        "def load_test_data(volume_list, folder_name, image_size=IMAGE_SIZE, fname_pattern=FNAME_PATTERN):\n",
        "    n_volumes = len(volume_list)\n",
        "    T1_volumes = np.zeros((n_volumes, *image_size, 1))\n",
        "\n",
        "    for iFile, iID in enumerate(volume_list):\n",
        "        # Load T1 volume (preprocessed image)\n",
        "        preprocessed_fname = fname_pattern.format(folder_name, iID, '_preprocessed_histmatched')\n",
        "        img_data = nib.load(preprocessed_fname).get_fdata()\n",
        "        print(f\"Shape of T1 volume {iID} before transpose: {img_data.shape}\")\n",
        "\n",
        "        # Correct transpose operation for T1 volumes\n",
        "        if img_data.shape != image_size:\n",
        "            img_data = np.transpose(img_data, (1, 2, 0))\n",
        "        print(f\"Shape of T1 volume {iID} after transpose: {img_data.shape}\")\n",
        "\n",
        "        # Check and assign for T1 volumes\n",
        "        if img_data.shape == image_size:\n",
        "            T1_volumes[iFile, ..., 0] = img_data\n",
        "        else:\n",
        "            print(f\"Error: Shape of T1 volume {iID} does not match expected shape {image_size}\")\n",
        "\n",
        "    return T1_volumes"
      ],
      "metadata": {
        "id": "iKF-Y_kA2uDD"
      },
      "execution_count": 6,
      "outputs": []
    },
    {
      "cell_type": "code",
      "metadata": {
        "id": "vuRHLNYGkDFp"
      },
      "source": [
        "# (testing_volumes_T1) = load_test_data(TEST_VOLUMES, 'Test_Set')\n",
        "testing_volumes_T1_processed = validation_volumes_T1.reshape([-1, IMAGE_SIZE[1], IMAGE_SIZE[2], 1]) # It was test_volumes_T1\n",
        "testing_labels_processed = validation_labels.reshape([-1, IMAGE_SIZE[1], IMAGE_SIZE[2]]) # Its was test_labels"
      ],
      "execution_count": 10,
      "outputs": []
    },
    {
      "cell_type": "markdown",
      "metadata": {
        "id": "xbJZUQyLqF4p"
      },
      "source": [
        "**Predict labels for test data**"
      ]
    },
    {
      "cell_type": "code",
      "metadata": {
        "id": "ItoY31x0K3r8",
        "colab": {
          "base_uri": "https://localhost:8080/"
        },
        "outputId": "22464390-7157-4733-db46-0db11077ea92"
      },
      "source": [
        "prediction = unet.predict(x=testing_volumes_T1_processed)\n",
        "\n",
        "prediction = np.argmax(prediction, axis=3)"
      ],
      "execution_count": 15,
      "outputs": [
        {
          "output_type": "stream",
          "name": "stdout",
          "text": [
            "20/20 [==============================] - 8s 91ms/step\n"
          ]
        }
      ]
    },
    {
      "cell_type": "code",
      "source": [
        "slice_to_display = prediction[:, 144, :]\n",
        "plt.axis('off')\n",
        "\n",
        "# Plot the slice\n",
        "plt.imshow(slice_to_display, cmap='gray')"
      ],
      "metadata": {
        "colab": {
          "base_uri": "https://localhost:8080/",
          "height": 423
        },
        "id": "BaAjRH_MXfjf",
        "outputId": "db4c5f74-ee0d-4447-f24d-03f3f51d06c4"
      },
      "execution_count": 16,
      "outputs": [
        {
          "output_type": "execute_result",
          "data": {
            "text/plain": [
              "<matplotlib.image.AxesImage at 0x7ecaa420ce80>"
            ]
          },
          "metadata": {},
          "execution_count": 16
        },
        {
          "output_type": "display_data",
          "data": {
            "text/plain": [
              "<Figure size 640x480 with 1 Axes>"
            ],
            "image/png": "[encoded data removed]"
          },
          "metadata": {}
        }
      ]
    },
    {
      "cell_type": "code",
      "source": [
        "!pip install medpy"
      ],
      "metadata": {
        "id": "LT2ZICiRH4BG",
        "colab": {
          "base_uri": "https://localhost:8080/"
        },
        "outputId": "d4f64914-d733-4f8c-c636-1e678ecdc6f6"
      },
      "execution_count": 18,
      "outputs": [
        {
          "output_type": "stream",
          "name": "stdout",
          "text": [
            "Collecting medpy\n",
            "  Downloading MedPy-0.4.0.tar.gz (151 kB)\n",
            "\u001b[?25l     \u001b[90m━━━━━━━━━━━━━━━━━━━━━━━━━━━━━━━━━━━━━━━━\u001b[0m \u001b[32m0.0/151.8 kB\u001b[0m \u001b[31m?\u001b[0m eta \u001b[36m-:--:--\u001b[0m\r\u001b[2K     \u001b[91m━━━━━━━━━━━━━━━━━━━━━━━━━━━━━━━━━━━━━\u001b[0m\u001b[91m╸\u001b[0m\u001b[90m━━\u001b[0m \u001b[32m143.4/151.8 kB\u001b[0m \u001b[31m4.8 MB/s\u001b[0m eta \u001b[36m0:00:01\u001b[0m\r\u001b[2K     \u001b[90m━━━━━━━━━━━━━━━━━━━━━━━━━━━━━━━━━━━━━━━━\u001b[0m \u001b[32m151.8/151.8 kB\u001b[0m \u001b[31m4.0 MB/s\u001b[0m eta \u001b[36m0:00:00\u001b[0m\n",
            "\u001b[?25h  Preparing metadata (setup.py) ... \u001b[?25l\u001b[?25hdone\n",
            "Requirement already satisfied: scipy>=1.1.0 in /usr/local/lib/python3.10/dist-packages (from medpy) (1.11.4)\n",
            "Requirement already satisfied: numpy>=1.11.0 in /usr/local/lib/python3.10/dist-packages (from medpy) (1.23.5)\n",
            "Requirement already satisfied: SimpleITK>=1.1.0 in /usr/local/lib/python3.10/dist-packages (from medpy) (2.3.1)\n",
            "Building wheels for collected packages: medpy\n",
            "  Building wheel for medpy (setup.py) ... \u001b[?25l\u001b[?25hdone\n",
            "  Created wheel for medpy: filename=MedPy-0.4.0-py3-none-any.whl size=214949 sha256=0077a78aec1c24fbb1d19cf0ee2fb8a8697663a0a89378b122c82ccb5ccbcafe\n",
            "  Stored in directory: /root/.cache/pip/wheels/d4/32/c7/6380ab2edb8cca018d39a0f1d43250fd9791922c963117de46\n",
            "Successfully built medpy\n",
            "Installing collected packages: medpy\n",
            "Successfully installed medpy-0.4.0\n"
          ]
        }
      ]
    },
    {
      "cell_type": "code",
      "source": [
        "import pandas as pd\n",
        "from medpy.metric.binary import dc, hd, ravd\n",
        "\n",
        "results = []\n",
        "slices_per_image = 128  # Assuming 128 slices per image\n",
        "\n",
        "for i in range(5):  # For each of the 5 images\n",
        "    start_slice = i * slices_per_image\n",
        "    end_slice = (i + 1) * slices_per_image\n",
        "\n",
        "    image_prediction = prediction[start_slice:end_slice]\n",
        "    image_label = testing_labels_processed[start_slice:end_slice]\n",
        "    image_metrics = {'Image_Name': str(VALIDATION_VOLUMES[i])}  # Store image name\n",
        "\n",
        "    for c in [1, 2, 3]:  # Iterate over the specified classes\n",
        "        if c in np.unique(image_label):\n",
        "            dsc_val = dc(image_prediction == c, image_label == c)\n",
        "            hd_val = hd(image_prediction == c, image_label == c, voxelspacing=[1, 1, 1], connectivity=1)\n",
        "            # Store the calculated metrics for each class\n",
        "            image_metrics[f'Dice_class_{c}'] = dsc_val\n",
        "            image_metrics[f'HD_class_{c}'] = hd_val\n",
        "\n",
        "    results.append(image_metrics)\n",
        "\n",
        "# Convert the results to a DataFrame and save as CSV\n",
        "results_df = pd.DataFrame(results)\n",
        "results_df.to_csv('segmentation_metrics.csv', index=False)\n"
      ],
      "metadata": {
        "id": "rxSvOVwuc95g"
      },
      "execution_count": 22,
      "outputs": []
    },
    {
      "cell_type": "code",
      "source": [
        "import matplotlib.pyplot as plt\n",
        "\n",
        "# Extracting Dice and HD values for each class\n",
        "dice_class_1 = results_df['Dice_class_1'].dropna()\n",
        "dice_class_2 = results_df['Dice_class_2'].dropna()\n",
        "dice_class_3 = results_df['Dice_class_3'].dropna()\n",
        "\n",
        "hd_class_1 = results_df['HD_class_1'].dropna()\n",
        "hd_class_2 = results_df['HD_class_2'].dropna()\n",
        "hd_class_3 = results_df['HD_class_3'].dropna()\n",
        "\n",
        "# Define colors for each tissue type\n",
        "colors = ['lightblue', 'lightgreen', 'salmon']\n",
        "\n",
        "# Create box plots\n",
        "plt.figure(figsize=(10, 6))\n",
        "box = plt.boxplot([dice_class_1, dice_class_2, dice_class_3], labels=['CSF', 'GM', 'WM'], patch_artist=True)\n",
        "\n",
        "# Apply colors\n",
        "for patch, color in zip(box['boxes'], colors):\n",
        "    patch.set_facecolor(color)\n",
        "\n",
        "# Create box plot for Dice values\n",
        "# plt.figure(figsize=(10, 6))\n",
        "plt.boxplot([dice_class_1, dice_class_2, dice_class_3], labels=['CSF', 'GM', 'WM'])\n",
        "plt.title('Dice Coefficient Distribution by Class')\n",
        "plt.ylabel('Dice Coefficient')\n",
        "plt.xlabel('Class')\n",
        "plt.grid(True)\n",
        "plt.show()\n",
        "\n",
        "# Create box plot for HD values\n",
        "plt.figure(figsize=(10, 6))\n",
        "box = plt.boxplot([hd_class_1, hd_class_2, hd_class_3], labels=['CSF', 'GM', 'WM'], patch_artist=True)\n",
        "\n",
        "# Apply colors\n",
        "for patch, color in zip(box['boxes'], colors):\n",
        "    patch.set_facecolor(color)\n",
        "plt.boxplot([hd_class_1, hd_class_2, hd_class_3], labels=['CSF', 'GM', 'WM'])\n",
        "plt.title('Hausdorff Distance Distribution by Class')\n",
        "plt.ylabel('Hausdorff Distance')\n",
        "plt.xlabel('Class')\n",
        "plt.grid(True)\n",
        "plt.show()"
      ],
      "metadata": {
        "colab": {
          "base_uri": "https://localhost:8080/",
          "height": 1000
        },
        "id": "aNFyWyCClQ3t",
        "outputId": "1b138da5-f6f1-483f-fd24-73e400bfe571"
      },
      "execution_count": 30,
      "outputs": [
        {
          "output_type": "display_data",
          "data": {
            "text/plain": [
              "<Figure size 1000x600 with 1 Axes>"
            ],
            "image/png": "[encoded data removed]"
          },
          "metadata": {}
        },
        {
          "output_type": "display_data",
          "data": {
            "text/plain": [
              "<Figure size 1000x600 with 1 Axes>"
            ],
            "image/png": "[encoded data removed]"
          },
          "metadata": {}
        }
      ]
    }
  ]
}